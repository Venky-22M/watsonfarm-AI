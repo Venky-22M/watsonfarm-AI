{
 "cells": [
  {
   "cell_type": "markdown",
   "id": "b1ef07b5",
   "metadata": {},
   "source": [
    "# 🌾 WatsonFarm AI – Smart Farming Assistant\n",
    "This notebook demonstrates the backend logic for building a smart farming assistant using IBM Watsonx, Watson Discovery, and RAG architecture."
   ]
  },
  {
   "cell_type": "markdown",
   "id": "fca6842c",
   "metadata": {},
   "source": [
    "## 🔧 Install Required Libraries"
   ]
  },
  {
   "cell_type": "code",
   "execution_count": null,
   "id": "fc8f2839",
   "metadata": {},
   "outputs": [],
   "source": [
    "# Uncomment and run if required\n",
    "# !pip install ibm-watson openai flask python-dotenv requests"
   ]
  },
  {
   "cell_type": "markdown",
   "id": "65cea447",
   "metadata": {},
   "source": [
    "## 📦 Import Required Libraries"
   ]
  },
  {
   "cell_type": "code",
   "execution_count": null,
   "id": "bc9dd2e0",
   "metadata": {},
   "outputs": [],
   "source": [
    "import os\n",
    "import json\n",
    "import requests\n",
    "from dotenv import load_dotenv\n",
    "\n",
    "load_dotenv()"
   ]
  },
  {
   "cell_type": "markdown",
   "id": "52212ee2",
   "metadata": {},
   "source": [
    "## 🔐 Setup IBM Watson and API Credentials"
   ]
  },
  {
   "cell_type": "code",
   "execution_count": null,
   "id": "d62d0e6c",
   "metadata": {},
   "outputs": [],
   "source": [
    "# Set your IBM service credentials\n",
    "WATSON_API_KEY = os.getenv(\"WATSON_API_KEY\")\n",
    "WATSON_DISCOVERY_URL = os.getenv(\"WATSON_DISCOVERY_URL\")\n",
    "WATSON_TRANSLATOR_URL = os.getenv(\"WATSON_TRANSLATOR_URL\")\n",
    "GRANITE_API_URL = os.getenv(\"GRANITE_API_URL\")"
   ]
  },
  {
   "cell_type": "markdown",
   "id": "fcd0bcbf",
   "metadata": {},
   "source": [
    "## 🌐 Translate Farmer's Query to English"
   ]
  },
  {
   "cell_type": "code",
   "execution_count": null,
   "id": "1b11b46d",
   "metadata": {},
   "outputs": [],
   "source": [
    "def translate_text(text, source_lang='hi', target_lang='en'):\n",
    "    url = f\"{WATSON_TRANSLATOR_URL}/v3/translate?version=2018-05-01\"\n",
    "    headers = {\"Content-Type\": \"application/json\"}\n",
    "    data = {\n",
    "        \"text\": [text],\n",
    "        \"source\": source_lang,\n",
    "        \"target\": target_lang\n",
    "    }\n",
    "    response = requests.post(url, headers=headers, json=data, auth=('apikey', WATSON_API_KEY))\n",
    "    return response.json()['translations'][0]['translation']"
   ]
  },
  {
   "cell_type": "markdown",
   "id": "e627f65d",
   "metadata": {},
   "source": [
    "## 🔍 Retrieve Relevant Agricultural Info using Watson Discovery"
   ]
  },
  {
   "cell_type": "code",
   "execution_count": null,
   "id": "728eb0aa",
   "metadata": {},
   "outputs": [],
   "source": [
    "def retrieve_documents(query):\n",
    "    url = f\"{WATSON_DISCOVERY_URL}/v2/query\"\n",
    "    params = {\n",
    "        \"project_id\": os.getenv(\"DISCOVERY_PROJECT_ID\"),\n",
    "        \"natural_language_query\": query,\n",
    "        \"count\": 3\n",
    "    }\n",
    "    headers = {\"Content-Type\": \"application/json\"}\n",
    "    response = requests.get(url, headers=headers, params=params, auth=(\"apikey\", WATSON_API_KEY))\n",
    "    return [doc['text'] for doc in response.json().get('results', [])]"
   ]
  },
  {
   "cell_type": "markdown",
   "id": "552b054a",
   "metadata": {},
   "source": [
    "## 🧠 Generate Answer using IBM Granite"
   ]
  },
  {
   "cell_type": "code",
   "execution_count": null,
   "id": "b34dbd40",
   "metadata": {},
   "outputs": [],
   "source": [
    "def generate_answer(context, question):\n",
    "    prompt = f\"\"\"You are an AI assistant for farmers. Based on the following information:\n",
    "{context}\n",
    "\n",
    "Answer the question: {question}\n",
    "\"\"\"\n",
    "    payload = {\n",
    "        \"model_id\": \"granite-13b-chat\",\n",
    "        \"input\": prompt\n",
    "    }\n",
    "    headers = {\"Content-Type\": \"application/json\"}\n",
    "    response = requests.post(GRANITE_API_URL, headers=headers, json=payload, auth=(\"apikey\", WATSON_API_KEY))\n",
    "    return response.json().get(\"generated_text\", \"No answer generated.\")"
   ]
  },
  {
   "cell_type": "markdown",
   "id": "968a0c95",
   "metadata": {},
   "source": [
    "## 🌐 Translate Response Back to User's Language"
   ]
  },
  {
   "cell_type": "code",
   "execution_count": null,
   "id": "24fca81f",
   "metadata": {},
   "outputs": [],
   "source": [
    "def translate_back(text, source_lang='en', target_lang='hi'):\n",
    "    return translate_text(text, source_lang, target_lang)"
   ]
  },
  {
   "cell_type": "markdown",
   "id": "9382c1d2",
   "metadata": {},
   "source": [
    "## ✅ Complete Pipeline: User Query → Answer"
   ]
  },
  {
   "cell_type": "code",
   "execution_count": null,
   "id": "9ceb82e7",
   "metadata": {},
   "outputs": [],
   "source": [
    "def ask_ai_agent(user_query, user_lang='hi'):\n",
    "    translated_query = translate_text(user_query, source_lang=user_lang, target_lang='en')\n",
    "    docs = retrieve_documents(translated_query)\n",
    "    context = \"\\n\".join(docs)\n",
    "    response_en = generate_answer(context, translated_query)\n",
    "    final_answer = translate_back(response_en, source_lang='en', target_lang=user_lang)\n",
    "    return final_answer"
   ]
  }
 ],
 "metadata": {
  "kernelspec": {
   "display_name": "Python 3.10",
   "language": "python",
   "name": "python3"
  }
 },
 "nbformat": 4,
 "nbformat_minor": 0
}
